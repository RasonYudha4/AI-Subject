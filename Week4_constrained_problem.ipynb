{
  "nbformat": 4,
  "nbformat_minor": 0,
  "metadata": {
    "colab": {
      "provenance": [],
      "authorship_tag": "ABX9TyNwwLIqXgtQPX3dtwCR71NG",
      "include_colab_link": true
    },
    "kernelspec": {
      "name": "python3",
      "display_name": "Python 3"
    },
    "language_info": {
      "name": "python"
    }
  },
  "cells": [
    {
      "cell_type": "markdown",
      "metadata": {
        "id": "view-in-github",
        "colab_type": "text"
      },
      "source": [
        "<a href=\"https://colab.research.google.com/github/RasonYudha4/AI-Subject/blob/main/Week4_constrained_problem.ipynb\" target=\"_parent\"><img src=\"https://colab.research.google.com/assets/colab-badge.svg\" alt=\"Open In Colab\"/></a>"
      ]
    },
    {
      "cell_type": "code",
      "execution_count": null,
      "metadata": {
        "collapsed": true,
        "id": "7vBeAGrcf1mO"
      },
      "outputs": [],
      "source": [
        "!pip install simpleai"
      ]
    },
    {
      "cell_type": "code",
      "source": [
        "from simpleai.search import CspProblem, backtrack, \\\n",
        "        min_conflicts, MOST_CONSTRAINED_VARIABLE, \\\n",
        "        HIGHEST_DEGREE_VARIABLE, LEAST_CONSTRAINING_VALUE"
      ],
      "metadata": {
        "id": "8aq1E6qUf6BM"
      },
      "execution_count": null,
      "outputs": []
    },
    {
      "cell_type": "code",
      "source": [
        "# Constraint that expects all the different variables\n",
        "# to have different values\n",
        "def constraint_unique(variables, values):\n",
        "    # Check if all the values are unique\n",
        "    return len(values) == len(set(values))\n",
        "\n",
        "# Constraint that specifies that one variable\n",
        "# should be bigger than other\n",
        "def constraint_bigger(variables, values):\n",
        "    return values[0] > values[1]\n",
        "\n",
        "# Constraint that specifies that there should be\n",
        "# one odd and one even variables in the two variables\n",
        "def constraint_odd_even(variables, values):\n",
        "    # If first variable is even, then second should\n",
        "    # be odd and vice versa\n",
        "    if values[0] % 2 == 0:\n",
        "        return values[1] % 2 == 1\n",
        "    else:\n",
        "        return values[1] % 2 == 0\n",
        "\n",
        "if __name__=='__main__':\n",
        "    variables = ('John', 'Anna', 'Tom', 'Patricia')\n",
        "\n",
        "    domains = {\n",
        "        'John': [1, 2, 3],\n",
        "        'Anna': [1, 3],\n",
        "        'Tom': [2, 4],\n",
        "        'Patricia': [2, 3, 4],\n",
        "    }\n",
        "\n",
        "    constraints = [\n",
        "        (('John', 'Anna', 'Tom'), constraint_unique),\n",
        "        (('Tom', 'Anna'), constraint_bigger),\n",
        "        (('John', 'Patricia'), constraint_odd_even),\n",
        "    ]\n",
        "\n",
        "    problem = CspProblem(variables, domains, constraints)\n",
        "\n",
        "    print('\\nSolutions:\\n\\nNormal:', backtrack(problem))\n",
        "    print('\\nMost constrained variable:', backtrack(problem,\n",
        "            variable_heuristic=MOST_CONSTRAINED_VARIABLE))\n",
        "    print('\\nHighest degree variable:', backtrack(problem,\n",
        "            variable_heuristic=HIGHEST_DEGREE_VARIABLE))\n",
        "    print('\\nLeast constraining value:', backtrack(problem,\n",
        "            value_heuristic=LEAST_CONSTRAINING_VALUE))\n",
        "    print('\\nMost constrained variable and least constraining value:',\n",
        "            backtrack(problem, variable_heuristic=MOST_CONSTRAINED_VARIABLE,\n",
        "            value_heuristic=LEAST_CONSTRAINING_VALUE))\n",
        "    print('\\nHighest degree and least constraining value:',\n",
        "            backtrack(problem, variable_heuristic=HIGHEST_DEGREE_VARIABLE,\n",
        "            value_heuristic=LEAST_CONSTRAINING_VALUE))\n",
        "    print('\\nMinimum conflicts:', min_conflicts(problem))"
      ],
      "metadata": {
        "colab": {
          "base_uri": "https://localhost:8080/"
        },
        "id": "0z4aN2dTgJ5g",
        "outputId": "d9e9c9e9-7baf-4dba-f316-79d8968c092e"
      },
      "execution_count": null,
      "outputs": [
        {
          "output_type": "stream",
          "name": "stdout",
          "text": [
            "\n",
            "Solutions:\n",
            "\n",
            "Normal: {'John': 1, 'Anna': 3, 'Tom': 4, 'Patricia': 2}\n",
            "\n",
            "Most constrained variable: {'Anna': 1, 'Tom': 2, 'John': 3, 'Patricia': 2}\n",
            "\n",
            "Highest degree variable: {'John': 1, 'Anna': 3, 'Tom': 4, 'Patricia': 2}\n",
            "\n",
            "Least constraining value: {'John': 1, 'Anna': 3, 'Tom': 4, 'Patricia': 2}\n",
            "\n",
            "Most constrained variable and least constraining value: {'Anna': 1, 'Tom': 2, 'John': 3, 'Patricia': 2}\n",
            "\n",
            "Highest degree and least constraining value: {'John': 1, 'Anna': 3, 'Tom': 4, 'Patricia': 2}\n",
            "\n",
            "Minimum conflicts: {'John': 1, 'Anna': 3, 'Tom': 4, 'Patricia': 4}\n"
          ]
        }
      ]
    },
    {
      "cell_type": "code",
      "source": [],
      "metadata": {
        "id": "qoo1INTAgNCg"
      },
      "execution_count": null,
      "outputs": []
    }
  ]
}