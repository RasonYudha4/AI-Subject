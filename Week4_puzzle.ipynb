{
  "nbformat": 4,
  "nbformat_minor": 0,
  "metadata": {
    "colab": {
      "provenance": [],
      "authorship_tag": "ABX9TyN1ajRGt+F6PhxyVFq7XM9l",
      "include_colab_link": true
    },
    "kernelspec": {
      "name": "python3",
      "display_name": "Python 3"
    },
    "language_info": {
      "name": "python"
    }
  },
  "cells": [
    {
      "cell_type": "markdown",
      "metadata": {
        "id": "view-in-github",
        "colab_type": "text"
      },
      "source": [
        "<a href=\"https://colab.research.google.com/github/RasonYudha4/AI-Subject/blob/main/Week4_puzzle.ipynb\" target=\"_parent\"><img src=\"https://colab.research.google.com/assets/colab-badge.svg\" alt=\"Open In Colab\"/></a>"
      ]
    },
    {
      "cell_type": "code",
      "execution_count": null,
      "metadata": {
        "colab": {
          "base_uri": "https://localhost:8080/"
        },
        "collapsed": true,
        "id": "Sask1eVViUf3",
        "outputId": "2ba3548e-35e6-4b33-efdd-fb9b2eabf62f"
      },
      "outputs": [
        {
          "output_type": "stream",
          "name": "stdout",
          "text": [
            "Collecting simpleai\n",
            "  Downloading simpleai-0.8.3.tar.gz (94 kB)\n",
            "\u001b[2K     \u001b[90m━━━━━━━━━━━━━━━━━━━━━━━━━━━━━━━━━━━━━━━━\u001b[0m \u001b[32m94.4/94.4 kB\u001b[0m \u001b[31m854.2 kB/s\u001b[0m eta \u001b[36m0:00:00\u001b[0m\n",
            "\u001b[?25h  Preparing metadata (setup.py) ... \u001b[?25l\u001b[?25hdone\n",
            "Building wheels for collected packages: simpleai\n",
            "  Building wheel for simpleai (setup.py) ... \u001b[?25l\u001b[?25hdone\n",
            "  Created wheel for simpleai: filename=simpleai-0.8.3-py3-none-any.whl size=100981 sha256=f914a1cc625f7763dbe8254e95fb38b67357f1a9dbd67f599dd8b8c645491811\n",
            "  Stored in directory: /root/.cache/pip/wheels/91/0c/38/421d7910e7bc59b97fc54f490808bdb1097607d83d1a592865\n",
            "Successfully built simpleai\n",
            "Installing collected packages: simpleai\n",
            "Successfully installed simpleai-0.8.3\n"
          ]
        }
      ],
      "source": [
        "!pip install simpleai"
      ]
    },
    {
      "cell_type": "code",
      "source": [
        "from simpleai.search import astar, SearchProblem"
      ],
      "metadata": {
        "id": "wIPYDqaeiXQv"
      },
      "execution_count": null,
      "outputs": []
    },
    {
      "cell_type": "code",
      "source": [
        "# Class containing methods to solve the puzzle\n",
        "class PuzzleSolver(SearchProblem):\n",
        "    # Action method to get the list of the possible\n",
        "    # numbers that can be moved in to the empty space\n",
        "    def actions(self, cur_state):\n",
        "        rows = string_to_list(cur_state)\n",
        "        row_empty, col_empty = get_location(rows, 'e')\n",
        "\n",
        "        actions = []\n",
        "        if row_empty > 0:\n",
        "            actions.append(rows[row_empty - 1][col_empty])\n",
        "        if row_empty < 2:\n",
        "            actions.append(rows[row_empty + 1][col_empty])\n",
        "        if col_empty > 0:\n",
        "            actions.append(rows[row_empty][col_empty - 1])\n",
        "        if col_empty < 2:\n",
        "            actions.append(rows[row_empty][col_empty + 1])\n",
        "\n",
        "        return actions\n",
        "\n",
        "    # Return the resulting state after moving a piece to the empty space\n",
        "    def result(self, state, action):\n",
        "        rows = string_to_list(state)\n",
        "        row_empty, col_empty = get_location(rows, 'e')\n",
        "        row_new, col_new = get_location(rows, action)\n",
        "\n",
        "        rows[row_empty][col_empty], rows[row_new][col_new] = \\\n",
        "                rows[row_new][col_new], rows[row_empty][col_empty]\n",
        "\n",
        "        return list_to_string(rows)\n",
        "\n",
        "    # Returns true if a state is the goal state\n",
        "    def is_goal(self, state):\n",
        "        return state == GOAL\n",
        "\n",
        "    # Returns an estimate of the distance from a state to\n",
        "    # the goal using the manhattan distance\n",
        "    def heuristic(self, state):\n",
        "        rows = string_to_list(state)\n",
        "\n",
        "        distance = 0\n",
        "\n",
        "        for number in '12345678e':\n",
        "            row_new, col_new = get_location(rows, number)\n",
        "            row_new_goal, col_new_goal = goal_positions[number]\n",
        "\n",
        "            distance += abs(row_new - row_new_goal) + abs(col_new - col_new_goal)\n",
        "\n",
        "        return distance\n",
        "\n",
        "# Convert list to string\n",
        "def list_to_string(input_list):\n",
        "    return '\\n'.join(['-'.join(x) for x in input_list])\n",
        "\n",
        "# Convert string to list\n",
        "def string_to_list(input_string):\n",
        "    return [x.split('-') for x in input_string.split('\\n')]\n",
        "\n",
        "# Find the 2D location of the input element\n",
        "def get_location(rows, input_element):\n",
        "    for i, row in enumerate(rows):\n",
        "        for j, item in enumerate(row):\n",
        "            if item == input_element:\n",
        "                return i, j\n",
        "\n",
        "# Final result that we want to achieve\n",
        "GOAL = '''1-2-3\n",
        "4-5-6\n",
        "7-8-e'''\n",
        "\n",
        "# Starting point\n",
        "INITIAL = '''1-e-2\n",
        "6-3-4\n",
        "7-5-8'''\n",
        "\n",
        "# Create a cache for the goal position of each piece\n",
        "goal_positions = {}\n",
        "rows_goal = string_to_list(GOAL)\n",
        "for number in '12345678e':\n",
        "    goal_positions[number] = get_location(rows_goal, number)\n",
        "\n",
        "# Create the solver object\n",
        "result = astar(PuzzleSolver(INITIAL))\n",
        "\n",
        "# Print the results\n",
        "for i, (action, state) in enumerate(result.path()):\n",
        "    print()\n",
        "    if action == None:\n",
        "        print('Initial configuration')\n",
        "    elif i == len(result.path()) - 1:\n",
        "        print('After moving', action, 'into the empty space. Goal achieved!')\n",
        "    else:\n",
        "        print('After moving', action, 'into the empty space')\n",
        "\n",
        "    print(state)"
      ],
      "metadata": {
        "colab": {
          "base_uri": "https://localhost:8080/"
        },
        "id": "stMrbZoIihVu",
        "outputId": "ddb91945-02db-4221-f592-3d06a890cfd1"
      },
      "execution_count": null,
      "outputs": [
        {
          "output_type": "stream",
          "name": "stdout",
          "text": [
            "\n",
            "Initial configuration\n",
            "1-e-2\n",
            "6-3-4\n",
            "7-5-8\n",
            "\n",
            "After moving 2 into the empty space\n",
            "1-2-e\n",
            "6-3-4\n",
            "7-5-8\n",
            "\n",
            "After moving 4 into the empty space\n",
            "1-2-4\n",
            "6-3-e\n",
            "7-5-8\n",
            "\n",
            "After moving 3 into the empty space\n",
            "1-2-4\n",
            "6-e-3\n",
            "7-5-8\n",
            "\n",
            "After moving 6 into the empty space\n",
            "1-2-4\n",
            "e-6-3\n",
            "7-5-8\n",
            "\n",
            "After moving 1 into the empty space\n",
            "e-2-4\n",
            "1-6-3\n",
            "7-5-8\n",
            "\n",
            "After moving 2 into the empty space\n",
            "2-e-4\n",
            "1-6-3\n",
            "7-5-8\n",
            "\n",
            "After moving 4 into the empty space\n",
            "2-4-e\n",
            "1-6-3\n",
            "7-5-8\n",
            "\n",
            "After moving 3 into the empty space\n",
            "2-4-3\n",
            "1-6-e\n",
            "7-5-8\n",
            "\n",
            "After moving 6 into the empty space\n",
            "2-4-3\n",
            "1-e-6\n",
            "7-5-8\n",
            "\n",
            "After moving 4 into the empty space\n",
            "2-e-3\n",
            "1-4-6\n",
            "7-5-8\n",
            "\n",
            "After moving 2 into the empty space\n",
            "e-2-3\n",
            "1-4-6\n",
            "7-5-8\n",
            "\n",
            "After moving 1 into the empty space\n",
            "1-2-3\n",
            "e-4-6\n",
            "7-5-8\n",
            "\n",
            "After moving 4 into the empty space\n",
            "1-2-3\n",
            "4-e-6\n",
            "7-5-8\n",
            "\n",
            "After moving 5 into the empty space\n",
            "1-2-3\n",
            "4-5-6\n",
            "7-e-8\n",
            "\n",
            "After moving 8 into the empty space. Goal achieved!\n",
            "1-2-3\n",
            "4-5-6\n",
            "7-8-e\n"
          ]
        }
      ]
    },
    {
      "cell_type": "code",
      "source": [],
      "metadata": {
        "id": "-GlqoUrCis5m"
      },
      "execution_count": null,
      "outputs": []
    }
  ]
}