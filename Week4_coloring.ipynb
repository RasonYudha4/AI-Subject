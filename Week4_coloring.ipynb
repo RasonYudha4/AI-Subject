{
  "nbformat": 4,
  "nbformat_minor": 0,
  "metadata": {
    "colab": {
      "provenance": [],
      "authorship_tag": "ABX9TyP3bOwibiStjHOskkAq/hmo",
      "include_colab_link": true
    },
    "kernelspec": {
      "name": "python3",
      "display_name": "Python 3"
    },
    "language_info": {
      "name": "python"
    }
  },
  "cells": [
    {
      "cell_type": "markdown",
      "metadata": {
        "id": "view-in-github",
        "colab_type": "text"
      },
      "source": [
        "<a href=\"https://colab.research.google.com/github/RasonYudha4/AI-Subject/blob/main/Week4_coloring.ipynb\" target=\"_parent\"><img src=\"https://colab.research.google.com/assets/colab-badge.svg\" alt=\"Open In Colab\"/></a>"
      ]
    },
    {
      "cell_type": "code",
      "execution_count": null,
      "metadata": {
        "collapsed": true,
        "id": "eJWgWdX7e61m"
      },
      "outputs": [],
      "source": [
        "!pip install simpleai"
      ]
    },
    {
      "cell_type": "code",
      "source": [
        "from simpleai.search import CspProblem, backtrack"
      ],
      "metadata": {
        "id": "yBsRQ-BtfBYK"
      },
      "execution_count": null,
      "outputs": []
    },
    {
      "cell_type": "code",
      "source": [
        "# Define the function that imposes the constraint\n",
        "# that neighbors should be different\n",
        "def constraint_func(names, values):\n",
        "    return values[0] != values[1]\n",
        "\n",
        "if __name__=='__main__':\n",
        "    # Specify the variables\n",
        "    names = ('Mark', 'Julia', 'Steve', 'Amanda', 'Brian',\n",
        "            'Joanne', 'Derek', 'Allan', 'Michelle', 'Kelly')\n",
        "\n",
        "    # Define the possible colors\n",
        "    colors = dict((name, ['red', 'green', 'blue', 'gray']) for name in names)\n",
        "\n",
        "    # Define the constraints\n",
        "    constraints = [\n",
        "        (('Mark', 'Julia'), constraint_func),\n",
        "        (('Mark', 'Steve'), constraint_func),\n",
        "        (('Julia', 'Steve'), constraint_func),\n",
        "        (('Julia', 'Amanda'), constraint_func),\n",
        "        (('Julia', 'Derek'), constraint_func),\n",
        "        (('Julia', 'Brian'), constraint_func),\n",
        "        (('Steve', 'Amanda'), constraint_func),\n",
        "        (('Steve', 'Allan'), constraint_func),\n",
        "        (('Steve', 'Michelle'), constraint_func),\n",
        "        (('Amanda', 'Michelle'), constraint_func),\n",
        "        (('Amanda', 'Joanne'), constraint_func),\n",
        "        (('Amanda', 'Derek'), constraint_func),\n",
        "        (('Brian', 'Derek'), constraint_func),\n",
        "        (('Brian', 'Kelly'), constraint_func),\n",
        "        (('Joanne', 'Michelle'), constraint_func),\n",
        "        (('Joanne', 'Amanda'), constraint_func),\n",
        "        (('Joanne', 'Derek'), constraint_func),\n",
        "        (('Joanne', 'Kelly'), constraint_func),\n",
        "        (('Derek', 'Kelly'), constraint_func),\n",
        "    ]\n",
        "\n",
        "    # Solve the problem\n",
        "    problem = CspProblem(names, colors, constraints)\n",
        "\n",
        "    # Print the solution\n",
        "    output = backtrack(problem)\n",
        "    print('\\nColor mapping:\\n')\n",
        "    for k, v in output.items():\n",
        "        print(k, '==>', v)\n"
      ],
      "metadata": {
        "colab": {
          "base_uri": "https://localhost:8080/"
        },
        "id": "bJbpkAclfHAa",
        "outputId": "03f3cae1-fa8c-4e19-92f4-3ff28cb3544e"
      },
      "execution_count": null,
      "outputs": [
        {
          "output_type": "stream",
          "name": "stdout",
          "text": [
            "\n",
            "Color mapping:\n",
            "\n",
            "Mark ==> red\n",
            "Julia ==> green\n",
            "Steve ==> blue\n",
            "Amanda ==> red\n",
            "Brian ==> red\n",
            "Joanne ==> green\n",
            "Derek ==> blue\n",
            "Allan ==> red\n",
            "Michelle ==> gray\n",
            "Kelly ==> gray\n"
          ]
        }
      ]
    },
    {
      "cell_type": "code",
      "source": [],
      "metadata": {
        "id": "sqKCp8U8fUN-"
      },
      "execution_count": null,
      "outputs": []
    }
  ]
}