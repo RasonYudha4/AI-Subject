{
  "nbformat": 4,
  "nbformat_minor": 0,
  "metadata": {
    "colab": {
      "provenance": [],
      "authorship_tag": "ABX9TyPJfCtK8K5FLBWWH0vMK5Nb",
      "include_colab_link": true
    },
    "kernelspec": {
      "name": "python3",
      "display_name": "Python 3"
    },
    "language_info": {
      "name": "python"
    }
  },
  "cells": [
    {
      "cell_type": "markdown",
      "metadata": {
        "id": "view-in-github",
        "colab_type": "text"
      },
      "source": [
        "<a href=\"https://colab.research.google.com/github/RasonYudha4/AI-Subject/blob/main/Week4_greedy_search.ipynb\" target=\"_parent\"><img src=\"https://colab.research.google.com/assets/colab-badge.svg\" alt=\"Open In Colab\"/></a>"
      ]
    },
    {
      "cell_type": "code",
      "source": [
        "!pip install simpleai"
      ],
      "metadata": {
        "collapsed": true,
        "id": "zj2TpeHZXdfk"
      },
      "execution_count": null,
      "outputs": []
    },
    {
      "cell_type": "code",
      "source": [
        "import argparse\n",
        "import simpleai.search as ss\n",
        "\n",
        "def build_arg_parser():\n",
        "    parser = argparse.ArgumentParser(description='Creates the input string \\\n",
        "            using the greedy algorithm')\n",
        "    parser.add_argument(\"--input-string\", dest=\"input_string\", required=True,\n",
        "            help=\"Input string\")\n",
        "    parser.add_argument(\"--initial-state\", dest=\"initial_state\", required=False,\n",
        "            default='', help=\"Starting point for the search\")\n",
        "    return parser\n",
        "\n",
        "class CustomProblem(ss.SearchProblem):\n",
        "    def set_target(self, target_string):\n",
        "        self.target_string = target_string\n",
        "\n",
        "    # Check the current state and take the right action\n",
        "    def actions(self, cur_state):\n",
        "        if len(cur_state) < len(self.target_string):\n",
        "            alphabets = 'abcdefghijklmnopqrstuvwxyz'\n",
        "            return list(alphabets + ' ' + alphabets.upper())\n",
        "        else:\n",
        "            return []\n",
        "\n",
        "    # Concatenate state and action to get the result\n",
        "    def result(self, cur_state, action):\n",
        "        return cur_state + action\n",
        "\n",
        "    # Check if goal has been achieved\n",
        "    def is_goal(self, cur_state):\n",
        "        return cur_state == self.target_string\n",
        "\n",
        "    # Define the heuristic that will be used\n",
        "    def heuristic(self, cur_state):\n",
        "        # Compare current string with target string\n",
        "        dist = sum([1 if cur_state[i] != self.target_string[i] else 0\n",
        "                    for i in range(len(cur_state))])\n",
        "\n",
        "        # Difference between the lengths\n",
        "        diff = len(self.target_string) - len(cur_state)\n",
        "\n",
        "        return dist + diff\n",
        "\n",
        "if __name__=='__main__':\n",
        "    # Include the input string as an argument\n",
        "    args = build_arg_parser().parse_args(['--input-string', 'This is the target string'])\n",
        "\n",
        "    # Initialize the object\n",
        "    problem = CustomProblem()\n",
        "\n",
        "    # Set target string and initial state\n",
        "    problem.set_target(args.input_string)\n",
        "    problem.initial_state = args.initial_state\n",
        "\n",
        "    # Solve the problem\n",
        "    output = ss.greedy(problem)\n",
        "\n",
        "    print('\\nTarget string:', args.input_string)\n",
        "    print('\\nPath to the solution:')\n",
        "    for item in output.path():\n",
        "        print(item)"
      ],
      "metadata": {
        "colab": {
          "base_uri": "https://localhost:8080/"
        },
        "collapsed": true,
        "id": "VfvEBB_2aI69",
        "outputId": "01af77b6-ad40-4f5b-97d7-dae6153a3460"
      },
      "execution_count": null,
      "outputs": [
        {
          "output_type": "stream",
          "name": "stdout",
          "text": [
            "\n",
            "Target string: This is the target string\n",
            "\n",
            "Path to the solution:\n",
            "(None, '')\n",
            "('T', 'T')\n",
            "('h', 'Th')\n",
            "('i', 'Thi')\n",
            "('s', 'This')\n",
            "(' ', 'This ')\n",
            "('i', 'This i')\n",
            "('s', 'This is')\n",
            "(' ', 'This is ')\n",
            "('t', 'This is t')\n",
            "('h', 'This is th')\n",
            "('e', 'This is the')\n",
            "(' ', 'This is the ')\n",
            "('t', 'This is the t')\n",
            "('a', 'This is the ta')\n",
            "('r', 'This is the tar')\n",
            "('g', 'This is the targ')\n",
            "('e', 'This is the targe')\n",
            "('t', 'This is the target')\n",
            "(' ', 'This is the target ')\n",
            "('s', 'This is the target s')\n",
            "('t', 'This is the target st')\n",
            "('r', 'This is the target str')\n",
            "('i', 'This is the target stri')\n",
            "('n', 'This is the target strin')\n",
            "('g', 'This is the target string')\n"
          ]
        }
      ]
    },
    {
      "cell_type": "code",
      "source": [],
      "metadata": {
        "id": "axsvFOnjaNNR"
      },
      "execution_count": null,
      "outputs": []
    }
  ]
}