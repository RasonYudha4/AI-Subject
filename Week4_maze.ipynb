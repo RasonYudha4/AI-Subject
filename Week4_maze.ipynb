{
  "nbformat": 4,
  "nbformat_minor": 0,
  "metadata": {
    "colab": {
      "provenance": [],
      "authorship_tag": "ABX9TyNBpfmG/NN73nUMO3VxM7lY",
      "include_colab_link": true
    },
    "kernelspec": {
      "name": "python3",
      "display_name": "Python 3"
    },
    "language_info": {
      "name": "python"
    }
  },
  "cells": [
    {
      "cell_type": "markdown",
      "metadata": {
        "id": "view-in-github",
        "colab_type": "text"
      },
      "source": [
        "<a href=\"https://colab.research.google.com/github/RasonYudha4/AI-Subject/blob/main/Week4_maze.ipynb\" target=\"_parent\"><img src=\"https://colab.research.google.com/assets/colab-badge.svg\" alt=\"Open In Colab\"/></a>"
      ]
    },
    {
      "cell_type": "code",
      "execution_count": null,
      "metadata": {
        "id": "zwVluY_phOj6"
      },
      "outputs": [],
      "source": [
        "!pip install simpleai"
      ]
    },
    {
      "cell_type": "code",
      "source": [
        "import math\n",
        "from simpleai.search import SearchProblem, astar"
      ],
      "metadata": {
        "id": "jrMwyQH3hm3C"
      },
      "execution_count": null,
      "outputs": []
    },
    {
      "cell_type": "code",
      "source": [
        "# Class containing the methods to solve the maze\n",
        "class MazeSolver(SearchProblem):\n",
        "    # Initialize the class\n",
        "    def __init__(self, board):\n",
        "        self.board = board\n",
        "        self.goal = (0, 0)\n",
        "\n",
        "        for y in range(len(self.board)):\n",
        "            for x in range(len(self.board[y])):\n",
        "                if self.board[y][x].lower() == \"o\":\n",
        "                    self.initial = (x, y)\n",
        "                elif self.board[y][x].lower() == \"x\":\n",
        "                    self.goal = (x, y)\n",
        "\n",
        "        super(MazeSolver, self).__init__(initial_state=self.initial)\n",
        "\n",
        "    # Define the method that takes actions\n",
        "    # to arrive at the solution\n",
        "    def actions(self, state):\n",
        "        actions = []\n",
        "        for action in COSTS.keys():\n",
        "            newx, newy = self.result(state, action)\n",
        "            if self.board[newy][newx] != \"#\":\n",
        "                actions.append(action)\n",
        "\n",
        "        return actions\n",
        "\n",
        "    # Update the state based on the action\n",
        "    def result(self, state, action):\n",
        "        x, y = state\n",
        "\n",
        "        if action.count(\"up\"):\n",
        "            y -= 1\n",
        "        if action.count(\"down\"):\n",
        "            y += 1\n",
        "        if action.count(\"left\"):\n",
        "            x -= 1\n",
        "        if action.count(\"right\"):\n",
        "            x += 1\n",
        "\n",
        "        new_state = (x, y)\n",
        "\n",
        "        return new_state\n",
        "\n",
        "    # Check if we have reached the goal\n",
        "    def is_goal(self, state):\n",
        "        return state == self.goal\n",
        "\n",
        "    # Compute the cost of taking an action\n",
        "    def cost(self, state, action, state2):\n",
        "        return COSTS[action]\n",
        "\n",
        "    # Heuristic that we use to arrive at the solution\n",
        "    def heuristic(self, state):\n",
        "        x, y = state\n",
        "        gx, gy = self.goal\n",
        "\n",
        "        return math.sqrt((x - gx) ** 2 + (y - gy) ** 2)\n",
        "\n",
        "if __name__ == \"__main__\":\n",
        "    # Define the map\n",
        "    MAP = \"\"\"\n",
        "    ##############################\n",
        "    #         #              #   #\n",
        "    # ####    ########       #   #\n",
        "    #  o #    #              #   #\n",
        "    #    ###     #####  ######   #\n",
        "    #      #   ###   #           #\n",
        "    #      #     #   #  #  #   ###\n",
        "    #     #####    #    #  # x   #\n",
        "    #              #       #     #\n",
        "    ##############################\n",
        "    \"\"\"\n",
        "\n",
        "    # Convert map to a list\n",
        "    print(MAP)\n",
        "    MAP = [list(x) for x in MAP.split(\"\\n\") if x]\n",
        "\n",
        "    # Define cost of moving around the map\n",
        "    cost_regular = 1.0\n",
        "    cost_diagonal = 1.7\n",
        "\n",
        "    # Create the cost dictionary\n",
        "    COSTS = {\n",
        "        \"up\": cost_regular,\n",
        "        \"down\": cost_regular,\n",
        "        \"left\": cost_regular,\n",
        "        \"right\": cost_regular,\n",
        "        \"up left\": cost_diagonal,\n",
        "        \"up right\": cost_diagonal,\n",
        "        \"down left\": cost_diagonal,\n",
        "        \"down right\": cost_diagonal,\n",
        "    }\n",
        "\n",
        "    # Create maze solver object\n",
        "    problem = MazeSolver(MAP)\n",
        "\n",
        "    # Run the solver\n",
        "    result = astar(problem, graph_search=True)\n",
        "\n",
        "    # Extract the path\n",
        "    path = [x[1] for x in result.path()]\n",
        "\n",
        "    # Print the result\n",
        "    print()\n",
        "    for y in range(len(MAP)):\n",
        "        for x in range(len(MAP[y])):\n",
        "            if (x, y) == problem.initial:\n",
        "                print('o', end='')\n",
        "            elif (x, y) == problem.goal:\n",
        "                print('x', end='')\n",
        "            elif (x, y) in path:\n",
        "                print('·', end='')\n",
        "            else:\n",
        "                print(MAP[y][x], end='')\n",
        "\n",
        "        print()"
      ],
      "metadata": {
        "colab": {
          "base_uri": "https://localhost:8080/"
        },
        "id": "A-9-mfMqhtg0",
        "outputId": "65f91fae-1ef1-4be3-ba06-fb52e09e6fe8"
      },
      "execution_count": null,
      "outputs": [
        {
          "output_type": "stream",
          "name": "stdout",
          "text": [
            "\n",
            "    ##############################\n",
            "    #         #              #   #\n",
            "    # ####    ########       #   #\n",
            "    #  o #    #              #   #\n",
            "    #    ###     #####  ######   #\n",
            "    #      #   ###   #           #\n",
            "    #      #     #   #  #  #   ###\n",
            "    #     #####    #    #  # x   #\n",
            "    #              #       #     #\n",
            "    ##############################\n",
            "    \n",
            "\n",
            "    ##############################\n",
            "    #         #              #   #\n",
            "    # ####    ########       #   #\n",
            "    #  o #    #              #   #\n",
            "    #   ·###     #####  ######   #\n",
            "    #    · #   ###   #  ····     #\n",
            "    #    · #     # ··# ·#  #·  ###\n",
            "    #    ·#####   ·# ·· #  # x   #\n",
            "    #     ········ #       #     #\n",
            "    ##############################\n",
            "    \n"
          ]
        }
      ]
    },
    {
      "cell_type": "code",
      "source": [],
      "metadata": {
        "id": "cM-FDM_5hxBZ"
      },
      "execution_count": null,
      "outputs": []
    }
  ]
}